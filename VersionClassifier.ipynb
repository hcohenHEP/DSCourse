{
 "cells": [
  {
   "cell_type": "markdown",
   "metadata": {
    "collapsed": true
   },
   "source": [
    "# Production Version Classifier"
   ]
  },
  {
   "cell_type": "code",
   "execution_count": 1,
   "metadata": {
    "collapsed": false
   },
   "outputs": [],
   "source": [
    "import os\n",
    "import sys\n",
    "import pandas as pd\n",
    "import matplotlib\n",
    "import numpy as np\n",
    "import datetime\n",
    "import matplotlib\n",
    "import matplotlib.pyplot as plt\n",
    "from matplotlib.backends.backend_pdf import PdfPages\n",
    "import warnings\n",
    "warnings.filterwarnings(\"ignore\")"
   ]
  },
  {
   "cell_type": "code",
   "execution_count": 2,
   "metadata": {
    "collapsed": false
   },
   "outputs": [
    {
     "name": "stdout",
     "output_type": "stream",
     "text": [
      "Populating the interactive namespace from numpy and matplotlib\n"
     ]
    }
   ],
   "source": [
    "%pylab inline\n",
    "matplotlib.rcParams['axes.grid'] = True\n",
    "matplotlib.rcParams['axes.grid.which'] = 'both'\n",
    "matplotlib.rcParams['xtick.minor.visible'] = True\n",
    "matplotlib.rcParams['axes.titlesize'] = 24"
   ]
  },
  {
   "cell_type": "code",
   "execution_count": 3,
   "metadata": {
    "collapsed": false
   },
   "outputs": [],
   "source": [
    "import mining\n",
    "import dtw\n",
    "import general\n",
    "import ajax\n",
    "import views\n",
    "import mva"
   ]
  },
  {
   "cell_type": "markdown",
   "metadata": {},
   "source": [
    "## Pre-Process the new data"
   ]
  },
  {
   "cell_type": "code",
   "execution_count": 4,
   "metadata": {
    "collapsed": false,
    "scrolled": true
   },
   "outputs": [
    {
     "name": "stdout",
     "output_type": "stream",
     "text": [
      "Ajax Mining for : new_data/day_2016-02-22 - 2016-02-23/ajax_events.csv\n",
      "Ajax Mining for : new_data/day_2016-02-23 - 2016-02-24/ajax_events.csv\n",
      "Ajax Mining for : new_data/day_2016-02-24 - 2016-02-25/ajax_events.csv\n",
      "Ajax Mining for : new_data/day_2016-02-25 - 2016-02-26/ajax_events.csv\n",
      "Ajax Mining for : new_data/day_2016-02-26 - 2016-02-27/ajax_events.csv\n",
      "Ajax Mining for : new_data/day_2016-02-27 - 2016-02-28/ajax_events.csv\n",
      "Ajax Mining for : new_data/day_2016-02-28 - 2016-02-29/ajax_events.csv\n",
      "Ajax Mining for : new_data/day_2016-02-29 - 2016-03-01/ajax_events.csv\n",
      "View Mining for : new_data/day_2016-02-22 - 2016-02-23/views.csv\n",
      "View Mining for : new_data/day_2016-02-23 - 2016-02-24/views.csv\n",
      "View Mining for : new_data/day_2016-02-24 - 2016-02-25/views.csv\n",
      "View Mining for : new_data/day_2016-02-25 - 2016-02-26/views.csv\n",
      "View Mining for : new_data/day_2016-02-26 - 2016-02-27/views.csv\n",
      "View Mining for : new_data/day_2016-02-27 - 2016-02-28/views.csv\n",
      "View Mining for : new_data/day_2016-02-28 - 2016-02-29/views.csv\n",
      "View Mining for : new_data/day_2016-02-29 - 2016-03-01/views.csv\n"
     ]
    },
    {
     "data": {
      "text/html": [
       "<div>\n",
       "<table border=\"1\" class=\"dataframe\">\n",
       "  <thead>\n",
       "    <tr style=\"text-align: right;\">\n",
       "      <th></th>\n",
       "      <th>Success</th>\n",
       "      <th>Fail</th>\n",
       "      <th>Views</th>\n",
       "      <th>FailAvgDuration</th>\n",
       "      <th>SuccessAvgDuration</th>\n",
       "      <th>TotalAvgDuration</th>\n",
       "      <th>Start_Time</th>\n",
       "      <th>End_Time</th>\n",
       "      <th>AvgSessionDuration</th>\n",
       "      <th>Sessions</th>\n",
       "      <th>RatioFS</th>\n",
       "      <th>RatioFV</th>\n",
       "    </tr>\n",
       "  </thead>\n",
       "  <tbody>\n",
       "    <tr>\n",
       "      <th>5.0.302.270 (production#bc7f456.160202-1806)</th>\n",
       "      <td>0</td>\n",
       "      <td>200</td>\n",
       "      <td>0</td>\n",
       "      <td>270.475006</td>\n",
       "      <td>212.800003</td>\n",
       "      <td>270.475006</td>\n",
       "      <td>2016-02-22</td>\n",
       "      <td>2016-03-01</td>\n",
       "      <td>23757.449219</td>\n",
       "      <td>8</td>\n",
       "      <td>200000.000000</td>\n",
       "      <td>200000.000000</td>\n",
       "    </tr>\n",
       "    <tr>\n",
       "      <th>5.0.302.284 (production#384b804.160222-1016)</th>\n",
       "      <td>575</td>\n",
       "      <td>9</td>\n",
       "      <td>825</td>\n",
       "      <td>363.333344</td>\n",
       "      <td>30.277779</td>\n",
       "      <td>30.277779</td>\n",
       "      <td>2016-02-22</td>\n",
       "      <td>2016-02-25</td>\n",
       "      <td>1637.725952</td>\n",
       "      <td>84</td>\n",
       "      <td>0.015652</td>\n",
       "      <td>0.010909</td>\n",
       "    </tr>\n",
       "    <tr>\n",
       "      <th>5.0.302.283 (production#6147f30.160218-1327)</th>\n",
       "      <td>199972</td>\n",
       "      <td>1343</td>\n",
       "      <td>232867</td>\n",
       "      <td>11429.632812</td>\n",
       "      <td>135.683334</td>\n",
       "      <td>193.220627</td>\n",
       "      <td>2016-02-22</td>\n",
       "      <td>2016-03-01</td>\n",
       "      <td>635.901855</td>\n",
       "      <td>26410</td>\n",
       "      <td>0.006716</td>\n",
       "      <td>0.005767</td>\n",
       "    </tr>\n",
       "    <tr>\n",
       "      <th>5.0.302.286 (production#d9693cf.160224-1622)</th>\n",
       "      <td>138959</td>\n",
       "      <td>794</td>\n",
       "      <td>155108</td>\n",
       "      <td>13839.983398</td>\n",
       "      <td>356.394043</td>\n",
       "      <td>415.046722</td>\n",
       "      <td>2016-02-25</td>\n",
       "      <td>2016-03-01</td>\n",
       "      <td>721.029907</td>\n",
       "      <td>19546</td>\n",
       "      <td>0.005714</td>\n",
       "      <td>0.005119</td>\n",
       "    </tr>\n",
       "    <tr>\n",
       "      <th>5.0.302.282 (production#1ef5c14.160217-1018)</th>\n",
       "      <td>391</td>\n",
       "      <td>2</td>\n",
       "      <td>518</td>\n",
       "      <td>861.500000</td>\n",
       "      <td>0.000000</td>\n",
       "      <td>4.631721</td>\n",
       "      <td>2016-02-22</td>\n",
       "      <td>2016-02-26</td>\n",
       "      <td>2558.882080</td>\n",
       "      <td>34</td>\n",
       "      <td>0.005115</td>\n",
       "      <td>0.003861</td>\n",
       "    </tr>\n",
       "    <tr>\n",
       "      <th>5.0.302.263 (production#395a8f5.160127-1312)</th>\n",
       "      <td>26</td>\n",
       "      <td>0</td>\n",
       "      <td>0</td>\n",
       "      <td>0.000000</td>\n",
       "      <td>0.000000</td>\n",
       "      <td>0.000000</td>\n",
       "      <td>2016-02-22</td>\n",
       "      <td>2016-02-26</td>\n",
       "      <td>20413.023438</td>\n",
       "      <td>3</td>\n",
       "      <td>0.000000</td>\n",
       "      <td>0.000000</td>\n",
       "    </tr>\n",
       "    <tr>\n",
       "      <th>5.0.302.271 (production#9590224.160203-1405)</th>\n",
       "      <td>28</td>\n",
       "      <td>0</td>\n",
       "      <td>17</td>\n",
       "      <td>0.000000</td>\n",
       "      <td>0.000000</td>\n",
       "      <td>0.000000</td>\n",
       "      <td>2016-02-22</td>\n",
       "      <td>2016-02-27</td>\n",
       "      <td>220.214859</td>\n",
       "      <td>7</td>\n",
       "      <td>0.000000</td>\n",
       "      <td>0.000000</td>\n",
       "    </tr>\n",
       "    <tr>\n",
       "      <th>5.0.302.281 (production#3f70817.160216-1451)</th>\n",
       "      <td>45</td>\n",
       "      <td>0</td>\n",
       "      <td>18</td>\n",
       "      <td>0.000000</td>\n",
       "      <td>0.000000</td>\n",
       "      <td>0.000000</td>\n",
       "      <td>2016-02-22</td>\n",
       "      <td>2016-02-27</td>\n",
       "      <td>10.100500</td>\n",
       "      <td>2</td>\n",
       "      <td>0.000000</td>\n",
       "      <td>0.000000</td>\n",
       "    </tr>\n",
       "  </tbody>\n",
       "</table>\n",
       "</div>"
      ],
      "text/plain": [
       "                                              Success  Fail   Views  \\\n",
       "5.0.302.270 (production#bc7f456.160202-1806)        0   200       0   \n",
       "5.0.302.284 (production#384b804.160222-1016)      575     9     825   \n",
       "5.0.302.283 (production#6147f30.160218-1327)   199972  1343  232867   \n",
       "5.0.302.286 (production#d9693cf.160224-1622)   138959   794  155108   \n",
       "5.0.302.282 (production#1ef5c14.160217-1018)      391     2     518   \n",
       "5.0.302.263 (production#395a8f5.160127-1312)       26     0       0   \n",
       "5.0.302.271 (production#9590224.160203-1405)       28     0      17   \n",
       "5.0.302.281 (production#3f70817.160216-1451)       45     0      18   \n",
       "\n",
       "                                              FailAvgDuration  \\\n",
       "5.0.302.270 (production#bc7f456.160202-1806)       270.475006   \n",
       "5.0.302.284 (production#384b804.160222-1016)       363.333344   \n",
       "5.0.302.283 (production#6147f30.160218-1327)     11429.632812   \n",
       "5.0.302.286 (production#d9693cf.160224-1622)     13839.983398   \n",
       "5.0.302.282 (production#1ef5c14.160217-1018)       861.500000   \n",
       "5.0.302.263 (production#395a8f5.160127-1312)         0.000000   \n",
       "5.0.302.271 (production#9590224.160203-1405)         0.000000   \n",
       "5.0.302.281 (production#3f70817.160216-1451)         0.000000   \n",
       "\n",
       "                                              SuccessAvgDuration  \\\n",
       "5.0.302.270 (production#bc7f456.160202-1806)          212.800003   \n",
       "5.0.302.284 (production#384b804.160222-1016)           30.277779   \n",
       "5.0.302.283 (production#6147f30.160218-1327)          135.683334   \n",
       "5.0.302.286 (production#d9693cf.160224-1622)          356.394043   \n",
       "5.0.302.282 (production#1ef5c14.160217-1018)            0.000000   \n",
       "5.0.302.263 (production#395a8f5.160127-1312)            0.000000   \n",
       "5.0.302.271 (production#9590224.160203-1405)            0.000000   \n",
       "5.0.302.281 (production#3f70817.160216-1451)            0.000000   \n",
       "\n",
       "                                              TotalAvgDuration  Start_Time  \\\n",
       "5.0.302.270 (production#bc7f456.160202-1806)        270.475006  2016-02-22   \n",
       "5.0.302.284 (production#384b804.160222-1016)         30.277779  2016-02-22   \n",
       "5.0.302.283 (production#6147f30.160218-1327)        193.220627  2016-02-22   \n",
       "5.0.302.286 (production#d9693cf.160224-1622)        415.046722  2016-02-25   \n",
       "5.0.302.282 (production#1ef5c14.160217-1018)          4.631721  2016-02-22   \n",
       "5.0.302.263 (production#395a8f5.160127-1312)          0.000000  2016-02-22   \n",
       "5.0.302.271 (production#9590224.160203-1405)          0.000000  2016-02-22   \n",
       "5.0.302.281 (production#3f70817.160216-1451)          0.000000  2016-02-22   \n",
       "\n",
       "                                                End_Time  AvgSessionDuration  \\\n",
       "5.0.302.270 (production#bc7f456.160202-1806)  2016-03-01        23757.449219   \n",
       "5.0.302.284 (production#384b804.160222-1016)  2016-02-25         1637.725952   \n",
       "5.0.302.283 (production#6147f30.160218-1327)  2016-03-01          635.901855   \n",
       "5.0.302.286 (production#d9693cf.160224-1622)  2016-03-01          721.029907   \n",
       "5.0.302.282 (production#1ef5c14.160217-1018)  2016-02-26         2558.882080   \n",
       "5.0.302.263 (production#395a8f5.160127-1312)  2016-02-26        20413.023438   \n",
       "5.0.302.271 (production#9590224.160203-1405)  2016-02-27          220.214859   \n",
       "5.0.302.281 (production#3f70817.160216-1451)  2016-02-27           10.100500   \n",
       "\n",
       "                                              Sessions        RatioFS  \\\n",
       "5.0.302.270 (production#bc7f456.160202-1806)         8  200000.000000   \n",
       "5.0.302.284 (production#384b804.160222-1016)        84       0.015652   \n",
       "5.0.302.283 (production#6147f30.160218-1327)     26410       0.006716   \n",
       "5.0.302.286 (production#d9693cf.160224-1622)     19546       0.005714   \n",
       "5.0.302.282 (production#1ef5c14.160217-1018)        34       0.005115   \n",
       "5.0.302.263 (production#395a8f5.160127-1312)         3       0.000000   \n",
       "5.0.302.271 (production#9590224.160203-1405)         7       0.000000   \n",
       "5.0.302.281 (production#3f70817.160216-1451)         2       0.000000   \n",
       "\n",
       "                                                    RatioFV  \n",
       "5.0.302.270 (production#bc7f456.160202-1806)  200000.000000  \n",
       "5.0.302.284 (production#384b804.160222-1016)       0.010909  \n",
       "5.0.302.283 (production#6147f30.160218-1327)       0.005767  \n",
       "5.0.302.286 (production#d9693cf.160224-1622)       0.005119  \n",
       "5.0.302.282 (production#1ef5c14.160217-1018)       0.003861  \n",
       "5.0.302.263 (production#395a8f5.160127-1312)       0.000000  \n",
       "5.0.302.271 (production#9590224.160203-1405)       0.000000  \n",
       "5.0.302.281 (production#3f70817.160216-1451)       0.000000  "
      ]
     },
     "execution_count": 4,
     "metadata": {},
     "output_type": "execute_result"
    }
   ],
   "source": [
    "general.data_path = 'new_data/'\n",
    "df = mining.preprocess_data(save_csv=False)\n",
    "df\n"
   ]
  },
  {
   "cell_type": "markdown",
   "metadata": {
    "collapsed": false
   },
   "source": [
    "## Check for continues of previous versions"
   ]
  },
  {
   "cell_type": "code",
   "execution_count": 5,
   "metadata": {
    "collapsed": false
   },
   "outputs": [
    {
     "data": {
      "text/html": [
       "<div>\n",
       "<table border=\"1\" class=\"dataframe\">\n",
       "  <thead>\n",
       "    <tr style=\"text-align: right;\">\n",
       "      <th></th>\n",
       "      <th>Success</th>\n",
       "      <th>Fail</th>\n",
       "      <th>Views</th>\n",
       "      <th>FailAvgDuration</th>\n",
       "      <th>SuccessAvgDuration</th>\n",
       "      <th>TotalAvgDuration</th>\n",
       "      <th>Start_Time</th>\n",
       "      <th>End_Time</th>\n",
       "      <th>AvgSessionDuration</th>\n",
       "      <th>Sessions</th>\n",
       "      <th>RatioFS</th>\n",
       "      <th>RatioFV</th>\n",
       "    </tr>\n",
       "  </thead>\n",
       "  <tbody>\n",
       "    <tr>\n",
       "      <th>5.0.302.270 (production#bc7f456.160202-1806)</th>\n",
       "      <td>9083</td>\n",
       "      <td>1640</td>\n",
       "      <td>8634</td>\n",
       "      <td>8222.672852</td>\n",
       "      <td>4454.767090</td>\n",
       "      <td>4508.988770</td>\n",
       "      <td>2016-02-03</td>\n",
       "      <td>2016-03-01</td>\n",
       "      <td>23757.449219</td>\n",
       "      <td>8</td>\n",
       "      <td>0.180557</td>\n",
       "      <td>0.189947</td>\n",
       "    </tr>\n",
       "    <tr>\n",
       "      <th>5.0.302.284 (production#384b804.160222-1016)</th>\n",
       "      <td>575</td>\n",
       "      <td>9</td>\n",
       "      <td>825</td>\n",
       "      <td>363.333344</td>\n",
       "      <td>30.277779</td>\n",
       "      <td>30.277779</td>\n",
       "      <td>2016-02-22</td>\n",
       "      <td>2016-02-25</td>\n",
       "      <td>1637.725952</td>\n",
       "      <td>84</td>\n",
       "      <td>0.015652</td>\n",
       "      <td>0.010909</td>\n",
       "    </tr>\n",
       "    <tr>\n",
       "      <th>5.0.302.283 (production#6147f30.160218-1327)</th>\n",
       "      <td>438125</td>\n",
       "      <td>3099</td>\n",
       "      <td>500810</td>\n",
       "      <td>11230.695312</td>\n",
       "      <td>784.717346</td>\n",
       "      <td>837.155457</td>\n",
       "      <td>2016-02-19</td>\n",
       "      <td>2016-03-01</td>\n",
       "      <td>635.901855</td>\n",
       "      <td>26410</td>\n",
       "      <td>0.007073</td>\n",
       "      <td>0.006188</td>\n",
       "    </tr>\n",
       "    <tr>\n",
       "      <th>5.0.302.286 (production#d9693cf.160224-1622)</th>\n",
       "      <td>138959</td>\n",
       "      <td>794</td>\n",
       "      <td>155108</td>\n",
       "      <td>13839.983398</td>\n",
       "      <td>356.394043</td>\n",
       "      <td>415.046722</td>\n",
       "      <td>2016-02-25</td>\n",
       "      <td>2016-03-01</td>\n",
       "      <td>721.029907</td>\n",
       "      <td>19546</td>\n",
       "      <td>0.005714</td>\n",
       "      <td>0.005119</td>\n",
       "    </tr>\n",
       "    <tr>\n",
       "      <th>5.0.302.282 (production#1ef5c14.160217-1018)</th>\n",
       "      <td>97895</td>\n",
       "      <td>520</td>\n",
       "      <td>112502</td>\n",
       "      <td>9034.125000</td>\n",
       "      <td>3727.864746</td>\n",
       "      <td>3689.967041</td>\n",
       "      <td>2016-02-16</td>\n",
       "      <td>2016-02-26</td>\n",
       "      <td>2558.882080</td>\n",
       "      <td>34</td>\n",
       "      <td>0.005312</td>\n",
       "      <td>0.004622</td>\n",
       "    </tr>\n",
       "    <tr>\n",
       "      <th>5.0.302.263 (production#395a8f5.160127-1312)</th>\n",
       "      <td>83011</td>\n",
       "      <td>615</td>\n",
       "      <td>52765</td>\n",
       "      <td>13123.779297</td>\n",
       "      <td>12121.441406</td>\n",
       "      <td>12121.431641</td>\n",
       "      <td>2016-01-27</td>\n",
       "      <td>2016-02-26</td>\n",
       "      <td>20413.023438</td>\n",
       "      <td>3</td>\n",
       "      <td>0.007409</td>\n",
       "      <td>0.011655</td>\n",
       "    </tr>\n",
       "    <tr>\n",
       "      <th>5.0.302.271 (production#9590224.160203-1405)</th>\n",
       "      <td>45815</td>\n",
       "      <td>227</td>\n",
       "      <td>51926</td>\n",
       "      <td>12681.043945</td>\n",
       "      <td>1.444784</td>\n",
       "      <td>66.324989</td>\n",
       "      <td>2016-02-04</td>\n",
       "      <td>2016-02-27</td>\n",
       "      <td>220.214859</td>\n",
       "      <td>7</td>\n",
       "      <td>0.004955</td>\n",
       "      <td>0.004372</td>\n",
       "    </tr>\n",
       "    <tr>\n",
       "      <th>5.0.302.281 (production#3f70817.160216-1451)</th>\n",
       "      <td>49319</td>\n",
       "      <td>275</td>\n",
       "      <td>58309</td>\n",
       "      <td>22127.560547</td>\n",
       "      <td>21756.916016</td>\n",
       "      <td>21757.041016</td>\n",
       "      <td>2016-02-16</td>\n",
       "      <td>2016-02-27</td>\n",
       "      <td>10.100500</td>\n",
       "      <td>2</td>\n",
       "      <td>0.005576</td>\n",
       "      <td>0.004716</td>\n",
       "    </tr>\n",
       "  </tbody>\n",
       "</table>\n",
       "</div>"
      ],
      "text/plain": [
       "                                              Success  Fail   Views  \\\n",
       "5.0.302.270 (production#bc7f456.160202-1806)     9083  1640    8634   \n",
       "5.0.302.284 (production#384b804.160222-1016)      575     9     825   \n",
       "5.0.302.283 (production#6147f30.160218-1327)   438125  3099  500810   \n",
       "5.0.302.286 (production#d9693cf.160224-1622)   138959   794  155108   \n",
       "5.0.302.282 (production#1ef5c14.160217-1018)    97895   520  112502   \n",
       "5.0.302.263 (production#395a8f5.160127-1312)    83011   615   52765   \n",
       "5.0.302.271 (production#9590224.160203-1405)    45815   227   51926   \n",
       "5.0.302.281 (production#3f70817.160216-1451)    49319   275   58309   \n",
       "\n",
       "                                              FailAvgDuration  \\\n",
       "5.0.302.270 (production#bc7f456.160202-1806)      8222.672852   \n",
       "5.0.302.284 (production#384b804.160222-1016)       363.333344   \n",
       "5.0.302.283 (production#6147f30.160218-1327)     11230.695312   \n",
       "5.0.302.286 (production#d9693cf.160224-1622)     13839.983398   \n",
       "5.0.302.282 (production#1ef5c14.160217-1018)      9034.125000   \n",
       "5.0.302.263 (production#395a8f5.160127-1312)     13123.779297   \n",
       "5.0.302.271 (production#9590224.160203-1405)     12681.043945   \n",
       "5.0.302.281 (production#3f70817.160216-1451)     22127.560547   \n",
       "\n",
       "                                              SuccessAvgDuration  \\\n",
       "5.0.302.270 (production#bc7f456.160202-1806)         4454.767090   \n",
       "5.0.302.284 (production#384b804.160222-1016)           30.277779   \n",
       "5.0.302.283 (production#6147f30.160218-1327)          784.717346   \n",
       "5.0.302.286 (production#d9693cf.160224-1622)          356.394043   \n",
       "5.0.302.282 (production#1ef5c14.160217-1018)         3727.864746   \n",
       "5.0.302.263 (production#395a8f5.160127-1312)        12121.441406   \n",
       "5.0.302.271 (production#9590224.160203-1405)            1.444784   \n",
       "5.0.302.281 (production#3f70817.160216-1451)        21756.916016   \n",
       "\n",
       "                                              TotalAvgDuration  Start_Time  \\\n",
       "5.0.302.270 (production#bc7f456.160202-1806)       4508.988770  2016-02-03   \n",
       "5.0.302.284 (production#384b804.160222-1016)         30.277779  2016-02-22   \n",
       "5.0.302.283 (production#6147f30.160218-1327)        837.155457  2016-02-19   \n",
       "5.0.302.286 (production#d9693cf.160224-1622)        415.046722  2016-02-25   \n",
       "5.0.302.282 (production#1ef5c14.160217-1018)       3689.967041  2016-02-16   \n",
       "5.0.302.263 (production#395a8f5.160127-1312)      12121.431641  2016-01-27   \n",
       "5.0.302.271 (production#9590224.160203-1405)         66.324989  2016-02-04   \n",
       "5.0.302.281 (production#3f70817.160216-1451)      21757.041016  2016-02-16   \n",
       "\n",
       "                                                End_Time  AvgSessionDuration  \\\n",
       "5.0.302.270 (production#bc7f456.160202-1806)  2016-03-01        23757.449219   \n",
       "5.0.302.284 (production#384b804.160222-1016)  2016-02-25         1637.725952   \n",
       "5.0.302.283 (production#6147f30.160218-1327)  2016-03-01          635.901855   \n",
       "5.0.302.286 (production#d9693cf.160224-1622)  2016-03-01          721.029907   \n",
       "5.0.302.282 (production#1ef5c14.160217-1018)  2016-02-26         2558.882080   \n",
       "5.0.302.263 (production#395a8f5.160127-1312)  2016-02-26        20413.023438   \n",
       "5.0.302.271 (production#9590224.160203-1405)  2016-02-27          220.214859   \n",
       "5.0.302.281 (production#3f70817.160216-1451)  2016-02-27           10.100500   \n",
       "\n",
       "                                              Sessions   RatioFS   RatioFV  \n",
       "5.0.302.270 (production#bc7f456.160202-1806)         8  0.180557  0.189947  \n",
       "5.0.302.284 (production#384b804.160222-1016)        84  0.015652  0.010909  \n",
       "5.0.302.283 (production#6147f30.160218-1327)     26410  0.007073  0.006188  \n",
       "5.0.302.286 (production#d9693cf.160224-1622)     19546  0.005714  0.005119  \n",
       "5.0.302.282 (production#1ef5c14.160217-1018)        34  0.005312  0.004622  \n",
       "5.0.302.263 (production#395a8f5.160127-1312)         3  0.007409  0.011655  \n",
       "5.0.302.271 (production#9590224.160203-1405)         7  0.004955  0.004372  \n",
       "5.0.302.281 (production#3f70817.160216-1451)         2  0.005576  0.004716  "
      ]
     },
     "execution_count": 5,
     "metadata": {},
     "output_type": "execute_result"
    }
   ],
   "source": [
    "df = mining.continues_versions_merging(df)\n",
    "df"
   ]
  },
  {
   "cell_type": "markdown",
   "metadata": {},
   "source": [
    "## Calculate DTW Correlations"
   ]
  },
  {
   "cell_type": "code",
   "execution_count": 6,
   "metadata": {
    "collapsed": false
   },
   "outputs": [
    {
     "name": "stdout",
     "output_type": "stream",
     "text": [
      "DTW Calculation for 5.0.302.270 (production#bc7f456.160202-1806)\n",
      "DTW Calculation for 5.0.302.284 (production#384b804.160222-1016)\n",
      "DTW Calculation for 5.0.302.283 (production#6147f30.160218-1327)\n",
      "DTW Calculation for 5.0.302.286 (production#d9693cf.160224-1622)\n",
      "DTW Calculation for 5.0.302.282 (production#1ef5c14.160217-1018)\n",
      "DTW Calculation for 5.0.302.263 (production#395a8f5.160127-1312)\n",
      "DTW Calculation for 5.0.302.271 (production#9590224.160203-1405)\n",
      "DTW Calculation for 5.0.302.281 (production#3f70817.160216-1451)\n"
     ]
    }
   ],
   "source": [
    "mining.merge_new_data_directories()\n",
    "df = dtw.DTW_AJAXV(df=df,new_data=True)"
   ]
  },
  {
   "cell_type": "markdown",
   "metadata": {},
   "source": [
    "## Make predictions for new versions"
   ]
  },
  {
   "cell_type": "code",
   "execution_count": null,
   "metadata": {
    "collapsed": false
   },
   "outputs": [
    {
     "data": {
      "text/plain": [
       "5.0.302.270 (production#bc7f456.160202-1806)    0.0\n",
       "5.0.302.284 (production#384b804.160222-1016)    1.0\n",
       "5.0.302.283 (production#6147f30.160218-1327)    0.0\n",
       "5.0.302.286 (production#d9693cf.160224-1622)    0.0\n",
       "5.0.302.282 (production#1ef5c14.160217-1018)    1.0\n",
       "5.0.302.263 (production#395a8f5.160127-1312)    0.0\n",
       "5.0.302.271 (production#9590224.160203-1405)    0.0\n",
       "5.0.302.281 (production#3f70817.160216-1451)    0.0\n",
       "Name: Class, dtype: float64"
      ]
     },
     "execution_count": 7,
     "metadata": {},
     "output_type": "execute_result"
    }
   ],
   "source": [
    "df = mva.predict(df)\n",
    "df['Class']"
   ]
  },
  {
   "cell_type": "markdown",
   "metadata": {},
   "source": [
    "## Produce Faulty Report"
   ]
  },
  {
   "cell_type": "code",
   "execution_count": null,
   "metadata": {
    "collapsed": false
   },
   "outputs": [],
   "source": [
    "def plot_ver(df,ver,pp):\n",
    "    ver_s = df.Start_Time[df.prod==ver]\n",
    "    ver_e = df.End_Time[df.prod==ver]\n",
    "    df_ajax = ajax.prep_data(general.load_df('ajax_events',ver_s,ver_e))\n",
    "    df_views = general.load_df('views',ver_s,ver_e)\n",
    "    ajax.plot_ajax_version_errors(df_ajax,\"2h\",ver,False)\n",
    "    pp.savefig()\n",
    "    views.plot_views_version(df_views,\"2h\",ver)\n",
    "    pp.savefig()\n",
    "\n",
    "def report(df,state):  \n",
    "    pp = PdfPages(state +' Ver Report' + datetime.datetime.now().strftime(\"%Y-%m-%d\") + '.pdf')\n",
    "    for ver in df[df.Class==(1 if state=='Faulty' else 0)].index:\n",
    "        plot_ver(df,ver,pp)\n",
    "    pp.close()\n",
    "\n",
    "report(df,'Faulty')\n",
    "report(df,'Good')"
   ]
  },
  {
   "cell_type": "markdown",
   "metadata": {},
   "source": [
    "## Save the new results"
   ]
  },
  {
   "cell_type": "code",
   "execution_count": null,
   "metadata": {
    "collapsed": true
   },
   "outputs": [],
   "source": [
    "mining.add_new_labled_data(df)"
   ]
  },
  {
   "cell_type": "markdown",
   "metadata": {},
   "source": [
    "## Re-train the BDT with new predictions for future versions"
   ]
  },
  {
   "cell_type": "code",
   "execution_count": null,
   "metadata": {
    "collapsed": false,
    "scrolled": true
   },
   "outputs": [],
   "source": [
    "mva.train()"
   ]
  },
  {
   "cell_type": "code",
   "execution_count": null,
   "metadata": {
    "collapsed": true
   },
   "outputs": [],
   "source": []
  }
 ],
 "metadata": {
  "kernelspec": {
   "display_name": "Python 3",
   "language": "python",
   "name": "python3"
  },
  "language_info": {
   "codemirror_mode": {
    "name": "ipython",
    "version": 3
   },
   "file_extension": ".py",
   "mimetype": "text/x-python",
   "name": "python",
   "nbconvert_exporter": "python",
   "pygments_lexer": "ipython3",
   "version": "3.5.1"
  }
 },
 "nbformat": 4,
 "nbformat_minor": 0
}
